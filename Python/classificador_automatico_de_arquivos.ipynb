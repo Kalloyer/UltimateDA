{
 "cells": [
  {
   "cell_type": "code",
   "execution_count": 36,
   "metadata": {},
   "outputs": [],
   "source": [
    "import os, shutil"
   ]
  },
  {
   "cell_type": "code",
   "execution_count": 37,
   "metadata": {},
   "outputs": [],
   "source": [
    "path = r'C:/Users/Kalleu/Downloads/Teste/' "
   ]
  },
  {
   "cell_type": "code",
   "execution_count": 38,
   "metadata": {},
   "outputs": [],
   "source": [
    "file_name = os.listdir(path)"
   ]
  },
  {
   "cell_type": "code",
   "execution_count": 39,
   "metadata": {},
   "outputs": [],
   "source": [
    "# Verifica se já existe e cria uma pasta caso não tenha\n",
    "\n",
    "nome_pasta = ['PDF', 'Imagens']\n",
    "\n",
    "for loop in range(0, 2):\n",
    "    if not os.path.exists(path + nome_pasta[loop]):\n",
    "        print(path + nome_pasta[loop])\n",
    "        os.makedirs(path + nome_pasta[loop])"
   ]
  },
  {
   "cell_type": "code",
   "execution_count": 40,
   "metadata": {},
   "outputs": [],
   "source": [
    "# Validar o arquivo e enviar para a pasta desejada\n",
    "\n",
    "for file in file_name:\n",
    "    if '.pdf' in file and not os.path.exists(path + 'PDF/' + file):\n",
    "        shutil.move(path + file, path + 'PDF/' + file)\n",
    "    elif '.jpeg'in file and not os.path.exists(path + 'Imagens/' + file):\n",
    "        shutil.move(path + file, path + 'Imagens/' + file)\n",
    "    elif '.png'in file and not os.path.exists(path + 'Imagens/' + file):\n",
    "        shutil.move(path + file, path + 'Imagens/' + file)"
   ]
  }
 ],
 "metadata": {
  "kernelspec": {
   "display_name": "Python 3",
   "language": "python",
   "name": "python3"
  },
  "language_info": {
   "codemirror_mode": {
    "name": "ipython",
    "version": 3
   },
   "file_extension": ".py",
   "mimetype": "text/x-python",
   "name": "python",
   "nbconvert_exporter": "python",
   "pygments_lexer": "ipython3",
   "version": "3.13.1"
  }
 },
 "nbformat": 4,
 "nbformat_minor": 2
}
