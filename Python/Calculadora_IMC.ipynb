{
 "cells": [
  {
   "cell_type": "code",
   "execution_count": 20,
   "metadata": {},
   "outputs": [
    {
     "name": "stdout",
     "output_type": "stream",
     "text": [
      "Seu IMC é de 24.12 e sua classifição é Normal!\n"
     ]
    }
   ],
   "source": [
    "peso = int(input('Insira seu peso (em kilos): '))\n",
    "\n",
    "altura = float(input('Insira sua altura (em centimetros): '))\n",
    "\n",
    "imc = peso / (altura * altura)\n",
    "\n",
    "if imc < 18.5:\n",
    "    print(f'Seu IMC é de {imc:.2f} e sua classifição é Magreza!')\n",
    "elif imc < 24.9:\n",
    "    print(f'Seu IMC é de {imc:.2f} e sua classifição é Normal!')\n",
    "elif imc < 29.9:\n",
    "    print(f'Seu IMC é de {imc:.2f} e sua classifição é Sobrepeso!')\n",
    "elif imc < 34.9:\n",
    "    print(f'Seu IMC é de {imc:.2f} e sua classifição é Obesidade grau I!')\n",
    "elif imc < 39.9:\n",
    "    print(f'Seu IMC é de {imc:.2f} e sua classifição é Obesidade grau II!')\n",
    "elif imc >= 40:\n",
    "    print(f'Seu IMC é de {imc:.2f} e sua classifição é Obesidade grau III!')\n",
    "    "
   ]
  }
 ],
 "metadata": {
  "kernelspec": {
   "display_name": "Python 3",
   "language": "python",
   "name": "python3"
  },
  "language_info": {
   "codemirror_mode": {
    "name": "ipython",
    "version": 3
   },
   "file_extension": ".py",
   "mimetype": "text/x-python",
   "name": "python",
   "nbconvert_exporter": "python",
   "pygments_lexer": "ipython3",
   "version": "3.13.1"
  }
 },
 "nbformat": 4,
 "nbformat_minor": 2
}
